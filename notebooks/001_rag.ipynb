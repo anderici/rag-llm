{
 "cells": [
  {
   "cell_type": "markdown",
   "metadata": {},
   "source": [
    "# Imports and Models"
   ]
  },
  {
   "cell_type": "code",
   "execution_count": 86,
   "metadata": {},
   "outputs": [],
   "source": [
    "from langchain.llms import OpenAI\n",
    "from langchain.embeddings import OpenAIEmbeddings\n",
    "from langchain.indexes.vectorstore import VectorstoreIndexCreator\n",
    "from langchain.text_splitter import RecursiveCharacterTextSplitter\n",
    "from langchain.vectorstores import Pinecone\n",
    "from langchain.chains.retrieval_qa.base import RetrievalQA\n",
    "from langchain import PromptTemplate\n",
    "import langchain\n",
    "import openai\n",
    "\n",
    "from pypdf import PdfReader\n",
    "\n",
    "import pinecone\n",
    "\n",
    "import os\n",
    "from dotenv import load_dotenv, find_dotenv\n",
    "\n",
    "find_dotenv()\n",
    "load_dotenv(find_dotenv(), override=True)\n",
    "openai.api_key=os.getenv(\"OPENAI_KEY\")"
   ]
  },
  {
   "cell_type": "code",
   "execution_count": 127,
   "metadata": {},
   "outputs": [],
   "source": [
    "llm = OpenAI(temperature=0, openai_api_key=os.getenv(\"OPENAI_KEY\"), model='gpt-4')\n",
    "embedding_generator = OpenAIEmbeddings(openai_api_key=os.getenv(\"OPENAI_KEY\"))"
   ]
  },
  {
   "cell_type": "markdown",
   "metadata": {},
   "source": [
    "# Reading and chunking the document"
   ]
  },
  {
   "cell_type": "code",
   "execution_count": 48,
   "metadata": {},
   "outputs": [],
   "source": [
    "file = '../data/itau2t23.pdf'\n",
    "\n",
    "reader = PdfReader(file)\n",
    "text = \"\"\n",
    "for page in reader.pages:\n",
    "    text += page.extract_text() + \"\\n\"\n",
    "\n",
    "text_splitter = RecursiveCharacterTextSplitter(\n",
    "    separators=[\"\\n\\n\", \"\\n\", \" \", \"\"],\n",
    "    chunk_size=1000,\n",
    "    chunk_overlap=200)\n",
    "\n",
    "chunks = text_splitter.create_documents(texts=[text])"
   ]
  },
  {
   "cell_type": "markdown",
   "metadata": {},
   "source": [
    "# Creating the vector DB"
   ]
  },
  {
   "cell_type": "code",
   "execution_count": 51,
   "metadata": {},
   "outputs": [],
   "source": [
    "# Initializing Pinecone Vector DB\n",
    "pinecone.init(      \n",
    "\tapi_key=os.getenv(\"PINECONE_KEY\"),      \n",
    "\tenvironment=os.getenv(\"PINECONE_ENV\")      \n",
    ")  \n",
    "index = pinecone.Index(os.getenv(\"PINECONE_INDEX\")) "
   ]
  },
  {
   "cell_type": "code",
   "execution_count": 52,
   "metadata": {},
   "outputs": [],
   "source": [
    "# create new embedding to upsert in vector store\n",
    "doc_db = Pinecone.from_documents(\n",
    "          chunks,\n",
    "          embedding_generator,\n",
    "          index_name=os.getenv(\"PINECONE_INDEX\")\n",
    "        )"
   ]
  },
  {
   "cell_type": "markdown",
   "metadata": {},
   "source": [
    "## In case we already have our indexes stored, just use it"
   ]
  },
  {
   "cell_type": "code",
   "execution_count": 65,
   "metadata": {},
   "outputs": [],
   "source": [
    "# doc_db = Pinecone.from_existing_index(os.getenv(\"PINECONE_INDEX\"), embedding_generator)"
   ]
  },
  {
   "cell_type": "markdown",
   "metadata": {},
   "source": [
    "# Using GPT with RAG"
   ]
  },
  {
   "cell_type": "code",
   "execution_count": 81,
   "metadata": {},
   "outputs": [],
   "source": [
    "prompt_template_wo_rag = \"\"\"\n",
    "Given the following extracted parts of a long document and a question, create a final answer with references (\"SOURCES\"). \n",
    "If you don't know the answer, just say that you don't know. Don't try to make up an answer.\n",
    "ALWAYS return a \"SOURCES\" part in your answer. Answer in Portuguese.\n",
    "\n",
    "\n",
    "QUESTION: {question}\n",
    "=========\n",
    "\n",
    "=========\n",
    "FINAL ANSWER:\"\"\""
   ]
  },
  {
   "cell_type": "code",
   "execution_count": 84,
   "metadata": {},
   "outputs": [
    {
     "name": "stdout",
     "output_type": "stream",
     "text": [
      "Desculpe, mas as informações fornecidas não contêm dados sobre o índice de eficiência do Itaú no segundo trimestre de 2023.\n",
      "\n",
      "FONTE: Informações fornecidas.\n"
     ]
    }
   ],
   "source": [
    "QUERY = 'Qual foi o indice de eficiência do Itaú no segundo trimestre de 2023?'\n",
    "\n",
    "response = openai.ChatCompletion.create(\n",
    "    messages=[\n",
    "        {'role': 'system', 'content': 'Você é um assistente que responde em Portugûes do Brasil'},\n",
    "        {'role': 'user', 'content': prompt_template_wo_rag.format(question=QUERY)}\n",
    "    ],\n",
    "    model='gpt-4'\n",
    ")\n",
    "\n",
    "response = response.choices[0].message.content\n",
    "\n",
    "print(response)"
   ]
  },
  {
   "cell_type": "markdown",
   "metadata": {},
   "source": [
    "ChatGPT **can't** answer because it doesn't have the information!"
   ]
  },
  {
   "cell_type": "code",
   "execution_count": 78,
   "metadata": {},
   "outputs": [],
   "source": [
    "# prompt template taken from: https://github.com/smatiolids/astra-agent-memory/tree/main\n",
    "\n",
    "prompt_template = \"\"\"\n",
    "Given the following extracted parts of a long document and a question, create a final answer with references (\"SOURCES\"). \n",
    "If you don't know the answer, just say that you don't know. Don't try to make up an answer.\n",
    "ALWAYS return a \"SOURCES\" part in your answer. Answer in Portuguese.\n",
    "\n",
    "\n",
    "QUESTION: {question}\n",
    "=========\n",
    "{summaries}\n",
    "=========\n",
    "FINAL ANSWER:\"\"\"\n",
    "PROMPT = PromptTemplate(\n",
    "    template=prompt_template, input_variables=[\"summaries\", \"question\"]\n",
    ")"
   ]
  },
  {
   "cell_type": "code",
   "execution_count": 79,
   "metadata": {},
   "outputs": [],
   "source": [
    "# Create a \"RetrievalQA\" chain\n",
    "langchain.verbose = False\n",
    "chainSim = RetrievalQA.from_chain_type(\n",
    "    llm=llm,\n",
    "    retriever=doc_db.as_retriever(),\n",
    "    chain_type_kwargs={\n",
    "        'prompt': PROMPT,\n",
    "        'document_variable_name': 'summaries'\n",
    "    }\n",
    ")"
   ]
  },
  {
   "cell_type": "code",
   "execution_count": 59,
   "metadata": {},
   "outputs": [
    {
     "name": "stdout",
     "output_type": "stream",
     "text": [
      "\n",
      "No segundo trimestre de 2023, o índice de eficiência do Itaú foi de 39,6%. SOURCES: Transcrição da conferência de resultados do Itaú Unibanco do segundo trimestre de 2023.\n"
     ]
    }
   ],
   "source": [
    "QUERY = 'Qual foi o indice de eficiência do Itaú no segundo trimestre de 2023?'\n",
    "\n",
    "# Run it and print results\n",
    "responseSim = chainSim.run(QUERY)\n",
    "print(responseSim)"
   ]
  },
  {
   "cell_type": "code",
   "execution_count": 64,
   "metadata": {},
   "outputs": [
    {
     "name": "stdout",
     "output_type": "stream",
     "text": [
      "\n",
      "O custo de crédito do Itaú no trimestre foi de R$9,4 Bilhões, com um índice de custo de crédito sobre carteira de 3,3%. Além disso, o índice de cobertura veio em 212%, mantendo-se estável.\n",
      "\n",
      "SOURCES:\n",
      "- https://www.itau.com.br/investidores/resultados/resultados-trimestrais/\n"
     ]
    }
   ],
   "source": [
    "QUERY = 'Qual foi o custo de crédito do Itaú no trimestre?'\n",
    "\n",
    "# Run it and print results\n",
    "responseSim = chainSim.run(QUERY)\n",
    "print(responseSim)"
   ]
  },
  {
   "cell_type": "markdown",
   "metadata": {},
   "source": [
    "## Using OpenAI API call and DB query"
   ]
  },
  {
   "cell_type": "code",
   "execution_count": 122,
   "metadata": {},
   "outputs": [],
   "source": [
    "QUERY = 'Qual foi o indice de eficiência do Itaú no segundo trimestre de 2023?'\n",
    "\n",
    "result_db_retrieval = index.query(\n",
    "  vector=[embedding_generator.embed_query(QUERY)],\n",
    "  top_k=4,\n",
    "  include_values=True,\n",
    "  include_metadata=True\n",
    ")\n",
    "context = [{\"text\": row['metadata']['text']} for row in result_db_retrieval['matches']]"
   ]
  },
  {
   "cell_type": "code",
   "execution_count": 123,
   "metadata": {},
   "outputs": [],
   "source": [
    "prompt_template_wo_rag_gpt = \"\"\"\n",
    "Given the following extracted parts of a long document and a question, create a final answer with references (\"SOURCES\"). \n",
    "If you don't know the answer, just say that you don't know. Don't try to make up an answer.\n",
    "ALWAYS return a \"SOURCES\" part in your answer. Answer in Portuguese.\n",
    "\n",
    "\n",
    "QUESTION: {question}\n",
    "=========\n",
    "CONTEXT: {context}\n",
    "=========\n",
    "FINAL ANSWER:\"\"\""
   ]
  },
  {
   "cell_type": "code",
   "execution_count": 128,
   "metadata": {},
   "outputs": [
    {
     "name": "stdout",
     "output_type": "stream",
     "text": [
      "O índice de eficiência do Itaú no segundo trimestre de 2023 foi de 39,6%. \n",
      "\n",
      "Fontes: Contexto do documento fornecido.\n"
     ]
    }
   ],
   "source": [
    "QUERY = 'Qual foi o indice de eficiência do Itaú no segundo trimestre de 2023?'\n",
    "\n",
    "response = openai.ChatCompletion.create(\n",
    "    messages=[\n",
    "        {'role': 'system', 'content': 'Você é um assistente que responde em Portugûes do Brasil'},\n",
    "        {\"role\": \"user\", \"content\": prompt_template_wo_rag_gpt.format(question=QUERY, context=context)}\n",
    "    ],\n",
    "    model='gpt-4'\n",
    ")\n",
    "\n",
    "response = response.choices[0].message.content\n",
    "\n",
    "print(response)"
   ]
  },
  {
   "cell_type": "code",
   "execution_count": null,
   "metadata": {},
   "outputs": [],
   "source": []
  }
 ],
 "metadata": {
  "kernelspec": {
   "display_name": "env_llm",
   "language": "python",
   "name": "python3"
  },
  "language_info": {
   "codemirror_mode": {
    "name": "ipython",
    "version": 3
   },
   "file_extension": ".py",
   "mimetype": "text/x-python",
   "name": "python",
   "nbconvert_exporter": "python",
   "pygments_lexer": "ipython3",
   "version": "3.10.11"
  },
  "orig_nbformat": 4
 },
 "nbformat": 4,
 "nbformat_minor": 2
}
